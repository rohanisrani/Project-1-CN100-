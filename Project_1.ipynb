{
  "nbformat": 4,
  "nbformat_minor": 0,
  "metadata": {
    "colab": {
      "name": "Project 1",
      "provenance": []
    },
    "kernelspec": {
      "name": "python3",
      "display_name": "Python 3"
    },
    "language_info": {
      "name": "python"
    }
  },
  "cells": [
    {
      "cell_type": "code",
      "metadata": {
        "id": "yKhcJSSDHpR4",
        "colab": {
          "base_uri": "https://localhost:8080/"
        },
        "outputId": "c34eb5ca-97bf-411f-ec86-c974e5207da2"
      },
      "source": [
        "# Quadratic Formula\n",
        "\n",
        "# Python program to find roots of quadratic equation \n",
        "import math \n",
        "\n",
        "# function for the finding roots \n",
        "def equationroots( a, b, c): \n",
        "\n",
        "\t# calculating discriminant using the formula \n",
        "\tdis = b * b - 4 * a * c \n",
        "\tsqrt_val = math.sqrt(abs(dis)) \n",
        "\t\n",
        "\t# checking condition for discriminant \n",
        "\tif dis > 0: \n",
        "\t\tprint(\" real and different roots \") \n",
        "\t\tprint((-b + sqrt_val)/(2 * a)) \n",
        "\t\tprint((-b - sqrt_val)/(2 * a)) \n",
        "\t\n",
        "\telif dis == 0: \n",
        "\t\tprint(\" real and same roots\") \n",
        "\t\tprint(-b / (2 * a)) \n",
        "\t\n",
        "\t# when discriminant is less than 0 \n",
        "\telse: \n",
        "\t\tprint(\"Complex Roots\") \n",
        "\t\tprint(- b / (2 * a), \" + i\", sqrt_val) \n",
        "\t\tprint(- b / (2 * a), \" - i\", sqrt_val) \n",
        "\n",
        "# Driver Program \n",
        "a = 1\n",
        "b = 10\n",
        "c = -24\n",
        "\n",
        "# If a is 0, then incorrect equation \n",
        "if a == 0: \n",
        "\t\tprint(\"Input correct quadratic equation\") \n",
        "\n",
        "else: \n",
        "\tequationroots(a, b, c) \n"
      ],
      "execution_count": null,
      "outputs": [
        {
          "output_type": "stream",
          "text": [
            " real and different roots \n",
            "2.0\n",
            "-12.0\n"
          ],
          "name": "stdout"
        }
      ]
    },
    {
      "cell_type": "code",
      "metadata": {
        "id": "HHo5jXSjHsvw",
        "colab": {
          "base_uri": "https://localhost:8080/"
        },
        "outputId": "62063d49-788c-4abb-a966-c3eb87a5f0d2"
      },
      "source": [
        "import math\n",
        "import numpy as np\n",
        "\n",
        "def linear():\n",
        "  vars = [[1, 1], [1/2 + math.sqrt(5)/2, -math.sqrt(5)/2 + 1/2]]\n",
        "  outcomes = [1, 1]\n",
        "  solution = np.linalg.solve(vars, outcomes) \n",
        "\n",
        "  print(\"Solutions:\", solution)\n",
        "\n",
        "print(linear())"
      ],
      "execution_count": null,
      "outputs": [
        {
          "output_type": "stream",
          "text": [
            "Solutions: [0.7236068 0.2763932]\n",
            "None\n"
          ],
          "name": "stdout"
        }
      ]
    }
  ]
}